{
  "cells": [
    {
      "cell_type": "markdown",
      "metadata": {},
      "source": [
        "## **Imported libraries**"
      ]
    },
    {
      "cell_type": "code",
      "execution_count": 4,
      "metadata": {},
      "outputs": [],
      "source": [
        "import random\n",
        "import numpy as np"
      ]
    },
    {
      "cell_type": "markdown",
      "metadata": {},
      "source": [
        "## **Strassen's Multiplication**"
      ]
    },
    {
      "cell_type": "code",
      "execution_count": 5,
      "metadata": {},
      "outputs": [],
      "source": [
        "def Strassen(A, B, C, n):\n",
        "    if n == 1:\n",
        "        C[0, 0] = A[0, 0] * B[0, 0]\n",
        "        return\n",
        "\n",
        "    half = n // 2\n",
        "\n",
        "    A11, A12, A21, A22 = A[:half, :half], A[:half, half:], A[half:, :half], A[half:, half:]\n",
        "    B11, B12, B21, B22 = B[:half, :half], B[:half, half:], B[half:, :half], B[half:, half:]\n",
        "    C11, C12, C21, C22 = C[:half, :half], C[:half, half:], C[half:, :half], C[half:, half:]\n",
        "\n",
        "    M1 = np.zeros((half, half))\n",
        "    M2 = np.zeros((half, half))\n",
        "    M3 = np.zeros((half, half))\n",
        "    M4 = np.zeros((half, half))\n",
        "    M5 = np.zeros((half, half))\n",
        "    M6 = np.zeros((half, half))\n",
        "    M7 = np.zeros((half, half))\n",
        "\n",
        "    Strassen(A11 + A22, B11 + B22, M1, half)\n",
        "    Strassen(A21 + A22, B11, M2, half)\n",
        "    Strassen(A11, B12 - B22, M3, half)\n",
        "    Strassen(A22, B21 - B11, M4, half)\n",
        "    Strassen(A11 + A12, B22, M5, half)\n",
        "    Strassen(A21 - A11, B11 + B12, M6, half)\n",
        "    Strassen(A12 - A22, B21 + B22, M7, half)\n",
        "\n",
        "    C11[:, :] = M1 + M4 - M5 + M7\n",
        "    C12[:, :] = M3 + M5\n",
        "    C21[:, :] = M2 + M4\n",
        "    C22[:, :] = M1 - M2 + M3 + M6"
      ]
    },
    {
      "cell_type": "markdown",
      "metadata": {},
      "source": [
        "# **Testing Block**\n",
        "Let's test `Strassen` with `n=4`."
      ]
    },
    {
      "cell_type": "code",
      "execution_count": 6,
      "metadata": {},
      "outputs": [
        {
          "name": "stdout",
          "output_type": "stream",
          "text": [
            "Matrix A:\n",
            "[[ 5 -4 -8 -8]\n",
            " [-8  3 10 -5]\n",
            " [10  7  2 10]\n",
            " [-3 -9  6  6]]\n",
            "\n",
            "Matrix B:\n",
            "[[  1   9   1 -10]\n",
            " [ 10   9   4   8]\n",
            " [  6  10   0   9]\n",
            " [  2  -7   9  -4]]\n",
            "\n",
            "AxB:\n",
            "[[ -99  -15  -83 -122]\n",
            " [  72   90  -41  214]\n",
            " [ 112  103  128  -66]\n",
            " [ -45  -90   15  -12]]\n",
            "\n"
          ]
        }
      ],
      "source": [
        "n = 4\n",
        "\n",
        "A = np.array([[random.randint(-10, 10) for _ in range(n)] for _ in range(n)])\n",
        "B = np.array([[random.randint(-10, 10) for _ in range(n)] for _ in range(n)])\n",
        "C = np.array([[0 for _ in range(n)] for _ in range(n)])\n",
        "Strassen(A, B, C, n)\n",
        "print(f'Matrix A:\\n{A}\\n')\n",
        "print(f'Matrix B:\\n{B}\\n')\n",
        "print(f'AxB:\\n{C}\\n')"
      ]
    },
    {
      "cell_type": "markdown",
      "metadata": {},
      "source": [
        "# **Algorithm Correctness Verification**\n",
        "We show that the algorithm works correctly (product) compared to a well-known function within numpy: `np.matmul(A, B)`. We multiply `m=1000000` different matrixes (of size `n=4`)."
      ]
    },
    {
      "cell_type": "code",
      "execution_count": 7,
      "metadata": {},
      "outputs": [
        {
          "name": "stdout",
          "output_type": "stream",
          "text": [
            "True\n"
          ]
        }
      ],
      "source": [
        "m = 1000000\n",
        "n = 4\n",
        "test = 0\n",
        "for _ in range(m):\n",
        "  A = np.array([[random.randint(-10, 10) for _ in range(n)] for _ in range(n)])\n",
        "  B = np.array([[random.randint(-10, 10) for _ in range(n)] for _ in range(n)])\n",
        "  C = np.array([[0 for _ in range(n)] for _ in range(n)])\n",
        "  Strassen(A, B, C, n)\n",
        "  D = np.matmul(A, B)\n",
        "  test += np.array_equal(C, D)\n",
        "print(test == m) #If the test is True, the Strassen's algorithm works correctly."
      ]
    }
  ],
  "metadata": {
    "colab": {
      "provenance": []
    },
    "kernelspec": {
      "display_name": "Python 3",
      "name": "python3"
    },
    "language_info": {
      "codemirror_mode": {
        "name": "ipython",
        "version": 3
      },
      "file_extension": ".py",
      "mimetype": "text/x-python",
      "name": "python",
      "nbconvert_exporter": "python",
      "pygments_lexer": "ipython3",
      "version": "3.12.3"
    }
  },
  "nbformat": 4,
  "nbformat_minor": 0
}
