{
 "cells": [
  {
   "cell_type": "markdown",
   "id": "00071c9f",
   "metadata": {},
   "source": [
    "## **Imported libraries**"
   ]
  },
  {
   "cell_type": "code",
   "execution_count": 14,
   "id": "b968bc4b",
   "metadata": {},
   "outputs": [],
   "source": [
    "import random\n",
    "import numpy as np"
   ]
  },
  {
   "cell_type": "markdown",
   "id": "b728e741",
   "metadata": {},
   "source": [
    "## **Matrix Product**"
   ]
  },
  {
   "cell_type": "code",
   "execution_count": 15,
   "id": "07c84f7f",
   "metadata": {},
   "outputs": [],
   "source": [
    "def MatrixProduct(A, B, C, n):\n",
    "  for i in range(n):\n",
    "    for j in range(n):\n",
    "      C[i, j] = np.dot(A[i], B[:,j])"
   ]
  },
  {
   "cell_type": "markdown",
   "id": "43002024",
   "metadata": {},
   "source": [
    "# **Testing Block**\n",
    "Let's test `MatrixProduct` with `n=5`."
   ]
  },
  {
   "cell_type": "code",
   "execution_count": 16,
   "id": "7aa79460",
   "metadata": {},
   "outputs": [
    {
     "name": "stdout",
     "output_type": "stream",
     "text": [
      "Matrix A:\n",
      "[[  1   8   5  -4   8]\n",
      " [  0   4   8   4   5]\n",
      " [  6   2 -10   5  -1]\n",
      " [  5   1 -10   8 -10]\n",
      " [ -9   4   0   5   4]]\n",
      "\n",
      "Matrix B:\n",
      "[[ 7 -8  6  9 -6]\n",
      " [-3 -1 -3 -4 -1]\n",
      " [ 8  4  1 -1  2]\n",
      " [ 0  7  4  0  9]\n",
      " [-7  8  7 -8 -1]]\n",
      "\n",
      "AxB:\n",
      "[[ -33   40   27  -92  -48]\n",
      " [  17   96   47  -64   43]\n",
      " [ -37  -63   33   64  -12]\n",
      " [  22 -105  -21  131   31]\n",
      " [-103  135  -18 -129   91]]\n",
      "\n"
     ]
    }
   ],
   "source": [
    "n = 5\n",
    "\n",
    "A = np.array([[random.randint(-10, 10) for _ in range(n)] for _ in range(n)])\n",
    "B = np.array([[random.randint(-10, 10) for _ in range(n)] for _ in range(n)])\n",
    "C = np.array([[0 for _ in range(n)] for _ in range(n)])\n",
    "MatrixProduct(A, B, C, n)\n",
    "print(f'Matrix A:\\n{A}\\n')\n",
    "print(f'Matrix B:\\n{B}\\n')\n",
    "print(f'AxB:\\n{C}\\n')"
   ]
  },
  {
   "cell_type": "markdown",
   "id": "24237980",
   "metadata": {},
   "source": [
    "# **Algorithm Correctness Verification**\n",
    "We show that the algorithm works correctly (product) compared to a well-known function within numpy: `np.matmul(A, B)`. We multiply `m=1000000` different matrixes (of size `n=5`)."
   ]
  },
  {
   "cell_type": "code",
   "execution_count": 12,
   "id": "d482a843",
   "metadata": {},
   "outputs": [
    {
     "name": "stdout",
     "output_type": "stream",
     "text": [
      "True\n"
     ]
    }
   ],
   "source": [
    "m = 1000000\n",
    "n = 4\n",
    "test = 0\n",
    "for _ in range(m):\n",
    "  A = np.array([[random.randint(-10, 10) for _ in range(n)] for _ in range(n)])\n",
    "  B = np.array([[random.randint(-10, 10) for _ in range(n)] for _ in range(n)])\n",
    "  C = np.array([[0 for _ in range(n)] for _ in range(n)])\n",
    "  MatrixProduct(A, B, C, n)\n",
    "  D = np.matmul(A, B)\n",
    "  test += np.array_equal(C, D)\n",
    "print(test == m) #If the test is True, the MatrixProduct algorithm works correctly."
   ]
  }
 ],
 "metadata": {
  "kernelspec": {
   "display_name": "Python 3",
   "language": "python",
   "name": "python3"
  },
  "language_info": {
   "codemirror_mode": {
    "name": "ipython",
    "version": 3
   },
   "file_extension": ".py",
   "mimetype": "text/x-python",
   "name": "python",
   "nbconvert_exporter": "python",
   "pygments_lexer": "ipython3",
   "version": "3.12.3"
  }
 },
 "nbformat": 4,
 "nbformat_minor": 5
}
