{
  "cells": [
    {
      "cell_type": "markdown",
      "metadata": {},
      "source": [
        "## **Libraries imported**"
      ]
    },
    {
      "cell_type": "code",
      "execution_count": 1,
      "metadata": {},
      "outputs": [],
      "source": [
        "import random\n",
        "import numpy as np"
      ]
    },
    {
      "cell_type": "markdown",
      "metadata": {},
      "source": [
        "## **Recursive Matrix Multiplication**"
      ]
    },
    {
      "cell_type": "code",
      "execution_count": 2,
      "metadata": {},
      "outputs": [],
      "source": [
        "def RecursiveProduct(A, B, C, n):\n",
        "  if n == 1:\n",
        "    C[0][0] += A[0][0] * B[0][0]\n",
        "    return\n",
        "\n",
        "  half = n//2\n",
        "\n",
        "  A11 = A[:half, :half]\n",
        "  A12 = A[:half, half:]\n",
        "  A21 = A[half:, :half]\n",
        "  A22 = A[half:, half:]\n",
        "\n",
        "  B11 = B[:half, :half]\n",
        "  B12 = B[:half, half:]\n",
        "  B21 = B[half:, :half]\n",
        "  B22 = B[half:, half:]\n",
        "\n",
        "  C11 = C[:half, :half]\n",
        "  C12 = C[:half, half:]\n",
        "  C21 = C[half:, :half]\n",
        "  C22 = C[half:, half:]\n",
        "\n",
        "  RecursiveProduct(A11, B11, C11, half)\n",
        "  RecursiveProduct(A12, B21, C11, half)\n",
        "\n",
        "  RecursiveProduct(A11, B12, C12, half)\n",
        "  RecursiveProduct(A12, B22, C12, half)\n",
        "\n",
        "  RecursiveProduct(A21, B11, C21, half)\n",
        "  RecursiveProduct(A22, B21, C21, half)\n",
        "\n",
        "  RecursiveProduct(A21, B12, C22, half)\n",
        "  RecursiveProduct(A22, B22, C22, half)\n",
        "\n",
        "  C[:half, :half] = C11\n",
        "  C[:half, half:] = C12\n",
        "  C[half:, :half] = C21\n",
        "  C[half:, half:] = C22"
      ]
    },
    {
      "cell_type": "markdown",
      "metadata": {},
      "source": [
        "# **Testing Block**\n",
        "Let's test `RecursiveProduct` with `n=4`."
      ]
    },
    {
      "cell_type": "code",
      "execution_count": 4,
      "metadata": {},
      "outputs": [
        {
          "name": "stdout",
          "output_type": "stream",
          "text": [
            "Matrix A:\n",
            "[[ -9  -2  10   1]\n",
            " [ -6  -5 -10   6]\n",
            " [  2 -10   9  -9]\n",
            " [ -7  -5   2   7]]\n",
            "\n",
            "Matrix B:\n",
            "[[ -5   4  10   5]\n",
            " [ -3  -1   6   4]\n",
            " [ -8  -9  -7   4]\n",
            " [  3 -10  -4   6]]\n",
            "\n",
            "AxB:\n",
            "[[ -26 -134 -176   -7]\n",
            " [ 143   11  -44  -54]\n",
            " [ -79   27  -67  -48]\n",
            " [  55 -111 -142   -5]]\n",
            "\n"
          ]
        }
      ],
      "source": [
        "n = 4\n",
        "\n",
        "A = np.array([[random.randint(-10, 10) for _ in range(n)] for _ in range(n)])\n",
        "B = np.array([[random.randint(-10, 10) for _ in range(n)] for _ in range(n)])\n",
        "C = np.array([[0 for _ in range(n)] for _ in range(n)])\n",
        "RecursiveProduct(A, B, C, n)\n",
        "print(f'Matrix A:\\n{A}\\n')\n",
        "print(f'Matrix B:\\n{B}\\n')\n",
        "print(f'AxB:\\n{C}\\n')"
      ]
    },
    {
      "cell_type": "markdown",
      "metadata": {},
      "source": [
        "# **Algorithm Correctness Verification**\n",
        "We show that the algorithm works correctly (product) compared to a well-known function within numpy: `np.matmul(A, B)`. We multiply `m=1000000` different matrixes (of size `n=4`)."
      ]
    },
    {
      "cell_type": "code",
      "execution_count": 5,
      "metadata": {},
      "outputs": [
        {
          "name": "stdout",
          "output_type": "stream",
          "text": [
            "True\n"
          ]
        }
      ],
      "source": [
        "m = 1000000\n",
        "n = 4\n",
        "test = 0\n",
        "for _ in range(m):\n",
        "  A = np.array([[random.randint(-10, 10) for _ in range(n)] for _ in range(n)])\n",
        "  B = np.array([[random.randint(-10, 10) for _ in range(n)] for _ in range(n)])\n",
        "  C = np.array([[0 for _ in range(n)] for _ in range(n)])\n",
        "  RecursiveProduct(A, B, C, n)\n",
        "  D = np.matmul(A, B)\n",
        "  test += np.array_equal(C, D)\n",
        "print(test == m) #If the test is True, the RecursiveProduct algorithm works correctly."
      ]
    }
  ],
  "metadata": {
    "colab": {
      "provenance": []
    },
    "kernelspec": {
      "display_name": "Python 3",
      "name": "python3"
    },
    "language_info": {
      "codemirror_mode": {
        "name": "ipython",
        "version": 3
      },
      "file_extension": ".py",
      "mimetype": "text/x-python",
      "name": "python",
      "nbconvert_exporter": "python",
      "pygments_lexer": "ipython3",
      "version": "3.12.3"
    }
  },
  "nbformat": 4,
  "nbformat_minor": 0
}
