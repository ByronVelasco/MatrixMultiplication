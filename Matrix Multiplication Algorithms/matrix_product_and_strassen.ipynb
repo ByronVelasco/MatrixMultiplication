{
 "cells": [
  {
   "cell_type": "markdown",
   "id": "5ddd7a81",
   "metadata": {},
   "source": [
    "# **Algorithm Design, Implementation, and Performance Analysis**\n",
    "## **1. Algorithm Design and Implementation**\n",
    "### **1.1 Matrix Product**\n",
    "The entry of the resulting matrix `C` at row `i` and column `j`, denoted as $c_{ij}$, is computed using the following summation:  \n",
    "$$\n",
    "c_{ij} = \\sum_{k=1}^{n} a_{ik} \\cdot b_{kj}\n",
    "$$     \n",
    "This means:\n",
    "- Fix a row `i` from matrix `A`\n",
    "- Fix a column `j` from matrix `B`\n",
    "- Multiply each corresponding element $a_{ik}$ (from row `i` of `A`) with $b_{kj}$ (from column `j` of `B`)\n",
    "- Sum all these products to get the value $c_{ij}$\n",
    "#### **1.1.1 Algorithm Design**"
   ]
  },
  {
   "cell_type": "code",
   "execution_count": 33,
   "id": "679666cc",
   "metadata": {},
   "outputs": [],
   "source": [
    "import numpy as np\n",
    "\n",
    "def matrix_product(A, B, C, n):\n",
    "\tfor i in range(n):  # Iterate over each row of A\n",
    "\t\tfor j in range(n):  # Iterate over each column of B\n",
    "\t\t\t# Compute the dot product of the i-th row of A and the j-th column of B\n",
    "\t\t\tC[i, j] = np.dot(A[i], B[:, j])"
   ]
  },
  {
   "cell_type": "markdown",
   "id": "8c24a0af",
   "metadata": {},
   "source": [
    "#### **1.1.2 Functionality Demonstration with Random Matrices**\n",
    "We will demonstrate the functionality of the `matrix_product` algorithm by applying it to randomly generated matrices. The matrices `A` and `B` are displayed before multiplication, and the resulting matrix `C` is shown afterward."
   ]
  },
  {
   "cell_type": "code",
   "execution_count": 34,
   "id": "bcce2d0a",
   "metadata": {},
   "outputs": [
    {
     "name": "stdout",
     "output_type": "stream",
     "text": [
      "Matrix A:\n",
      "[[  8   3  -6  -7  10]\n",
      " [ -5  -3  -1 -10   4]\n",
      " [ -6  -7   7   0   2]\n",
      " [ -7   6   4 -10  -9]\n",
      " [ 10  -9   3   7   7]]\n",
      "\n",
      "Matrix B:\n",
      "[[-9  3 -4 -4 -2]\n",
      " [-3 -9 -5 -4  3]\n",
      " [-8  8 -5  5 -9]\n",
      " [-2 -6  7 -6  2]\n",
      " [-7  6  6  5 -1]]\n",
      "\n",
      "AxB:\n",
      "[[ -89   51   -6   18   23]\n",
      " [  54   88   -6  107  -14]\n",
      " [   5  113   36   97  -74]\n",
      " [  96  -37 -146   39  -15]\n",
      " [-150  135   81    4  -67]]\n",
      "\n"
     ]
    }
   ],
   "source": [
    "import random\n",
    "\n",
    "n = 5\n",
    "\n",
    "A = np.array([[random.randint(-10, 10) for _ in range(n)] for _ in range(n)])\n",
    "B = np.array([[random.randint(-10, 10) for _ in range(n)] for _ in range(n)])\n",
    "C = np.array([[0 for _ in range(n)] for _ in range(n)])\n",
    "matrix_product(A, B, C, n)\n",
    "print(f'Matrix A:\\n{A}\\n')\n",
    "print(f'Matrix B:\\n{B}\\n')\n",
    "print(f'AxB:\\n{C}\\n')"
   ]
  },
  {
   "cell_type": "markdown",
   "id": "291b6952",
   "metadata": {},
   "source": [
    "#### **1.1.3 Validation of Correctness**\n",
    "We will validate the correctness of `matrix_product` by comparing its results with the `np.matmul` function, which is a well-established matrix multiplication implementation in `NumPy`."
   ]
  },
  {
   "cell_type": "code",
   "execution_count": 35,
   "id": "b38f30ba",
   "metadata": {},
   "outputs": [
    {
     "name": "stdout",
     "output_type": "stream",
     "text": [
      "matrix_product works perfectly!!!\n"
     ]
    }
   ],
   "source": [
    "import random\n",
    "\n",
    "m = 100  # Number of different matrix sizes to test\n",
    "test = True  # Flag to track if all tests pass\n",
    "\n",
    "for n in range(1, m+1):  # Test for matrix sizes from 1x1 up to mxm\n",
    "    # Generate two random n x n matrices with integer values between -10 and 10\n",
    "    A = np.array([[random.randint(-10, 10) for _ in range(n)] for _ in range(n)])\n",
    "    B = np.array([[random.randint(-10, 10) for _ in range(n)] for _ in range(n)])\n",
    "    # Initialize an n x n zero matrix for the result\n",
    "    C = np.array([[0 for _ in range(n)] for _ in range(n)])\n",
    "    # Compute the product using the custom matrix_product function\n",
    "    matrix_product(A, B, C, n)\n",
    "    # Compute the product using NumPy's built-in matmul for validation\n",
    "    C2 = np.matmul(A, B)\n",
    "    # Compare the results; if they differ, print a message and stop testing\n",
    "    if not np.array_equal(C, C2):\n",
    "        print(f'matrix_product got a different result')\n",
    "        test = False\n",
    "        break\n",
    "\n",
    "if test:\n",
    "    print('matrix_product works perfectly!!!')"
   ]
  },
  {
   "cell_type": "markdown",
   "id": "06b635d1",
   "metadata": {},
   "source": [
    "### **1.2 Recursive Matrix Multiplication**\n",
    "The recursive approach to matrix multiplication divides each input matrix into four equally sized submatrices (quadrants). It then recursively computes the products of these submatrices and combines the results to form the final product matrix. This method continues subdividing the matrices until reaching the base case of single-element matrices, which are multiplied directly. By breaking down the problem into smaller subproblems and combining their solutions, the recursive strategy efficiently constructs the full matrix product.\n",
    "#### **1.2.1 Algorithm Design**"
   ]
  },
  {
   "cell_type": "code",
   "execution_count": 36,
   "id": "5d32b254",
   "metadata": {},
   "outputs": [],
   "source": [
    "import numpy as np\n",
    "\n",
    "def recursive_matrix_product(A, B, C, n):\n",
    "\t# Base case: if the matrix is 1x1, multiply the single elements\n",
    "\tif n == 1:\n",
    "\t\tC[0, 0] = A[0, 0] * B[0, 0]\n",
    "\t\treturn\n",
    "\n",
    "\tmid = n // 2  # Find the midpoint to partition the matrices\n",
    "\n",
    "\t# Partition matrices A, B, and C into four quadrants each\n",
    "\tA11, A12 = A[:mid, :mid], A[:mid, mid:]\n",
    "\tA21, A22 = A[mid:, :mid], A[mid:, mid:]\n",
    "\tB11, B12 = B[:mid, :mid], B[:mid, mid:]\n",
    "\tB21, B22 = B[mid:, :mid], B[mid:, mid:]\n",
    "\tC11, C12 = C[:mid, :mid], C[:mid, mid:]\n",
    "\tC21, C22 = C[mid:, :mid], C[mid:, mid:]\n",
    "\n",
    "\t# Temporary matrices to store intermediate results for addition\n",
    "\tS1 = np.zeros((mid, mid), dtype=A.dtype)\n",
    "\tS2 = np.zeros((mid, mid), dtype=A.dtype)\n",
    "\n",
    "\t# Compute C11 = A11*B11 + A12*B21\n",
    "\trecursive_matrix_product(A11, B11, C11, mid)   # C11 += A11 * B11\n",
    "\trecursive_matrix_product(A12, B21, S1, mid)    # S1 = A12 * B21\n",
    "\tC11 += S1                           # Add S1 to C11\n",
    "\n",
    "\t# Compute C12 = A11*B12 + A12*B22\n",
    "\trecursive_matrix_product(A11, B12, C12, mid)   # C12 += A11 * B12\n",
    "\trecursive_matrix_product(A12, B22, S2, mid)    # S2 = A12 * B22\n",
    "\tC12 += S2                           # Add S2 to C12\n",
    "\n",
    "\t# Prepare S1 and S2 for reuse\n",
    "\tS1.fill(0)\n",
    "\tS2.fill(0)\n",
    "\n",
    "\t# Compute C21 = A21*B11 + A22*B21\n",
    "\trecursive_matrix_product(A21, B11, C21, mid)   # C21 += A21 * B11\n",
    "\trecursive_matrix_product(A22, B21, S1, mid)    # S1 = A22 * B21\n",
    "\tC21 += S1                           # Add S1 to C21\n",
    "\n",
    "\t# Compute C22 = A21*B12 + A22*B22\n",
    "\trecursive_matrix_product(A21, B12, C22, mid)   # C22 += A21 * B12\n",
    "\trecursive_matrix_product(A22, B22, S2, mid)    # S2 = A22 * B22\n",
    "\tC22 += S2                           # Add S2 to C22"
   ]
  },
  {
   "cell_type": "markdown",
   "id": "2c22a84f",
   "metadata": {},
   "source": [
    "#### **1.2.2 Functionality Demonstration with Random Matrices**\n",
    "We will demonstrate the functionality of the `recursive_matrix_product` algorithm by applying it to randomly generated matrices. The matrices `A` and `B` are displayed before multiplication, and the resulting matrix `C` is shown afterward."
   ]
  },
  {
   "cell_type": "code",
   "execution_count": 37,
   "id": "6b65de21",
   "metadata": {},
   "outputs": [
    {
     "name": "stdout",
     "output_type": "stream",
     "text": [
      "Matrix A:\n",
      "[[ -5   4   4   4]\n",
      " [ -4   4   5   9]\n",
      " [ -5  -5 -10   5]\n",
      " [ -6  -2   6  -3]]\n",
      "\n",
      "Matrix B:\n",
      "[[ 2  0  9 -7]\n",
      " [ 7 -1  9 -7]\n",
      " [ 6  2  8  5]\n",
      " [ 2  1  8 -2]]\n",
      "\n",
      "AxB:\n",
      "[[  50    8   55   19]\n",
      " [  68   15  112    7]\n",
      " [ -95  -10 -130   10]\n",
      " [   4   11  -48   92]]\n",
      "\n"
     ]
    }
   ],
   "source": [
    "import random\n",
    "\n",
    "n = 4\n",
    "\n",
    "A = np.array([[random.randint(-10, 10) for _ in range(n)] for _ in range(n)])\n",
    "B = np.array([[random.randint(-10, 10) for _ in range(n)] for _ in range(n)])\n",
    "C = np.array([[0 for _ in range(n)] for _ in range(n)])\n",
    "recursive_matrix_product(A, B, C, n)\n",
    "print(f'Matrix A:\\n{A}\\n')\n",
    "print(f'Matrix B:\\n{B}\\n')\n",
    "print(f'AxB:\\n{C}\\n')"
   ]
  },
  {
   "cell_type": "markdown",
   "id": "31a2c833",
   "metadata": {},
   "source": [
    "#### **1.2.3 Validation of Correctness**\n",
    "We will validate the correctness of `recursive_matrix_product` by comparing its results with the `np.matmul` function, which is a well-established matrix multiplication implementation in `NumPy`."
   ]
  },
  {
   "cell_type": "code",
   "execution_count": 38,
   "id": "2d54014e",
   "metadata": {},
   "outputs": [
    {
     "name": "stdout",
     "output_type": "stream",
     "text": [
      "recursive_matrix_product works perfectly!!!\n"
     ]
    }
   ],
   "source": [
    "import random\n",
    "\n",
    "n_list = [1, 2, 4, 8, 16, 32, 64]  # List of matrix sizes to test (powers of 2)\n",
    "m = 10  # Number of tests to run for each matrix size\n",
    "test = True  # Flag to track if all tests pass\n",
    "\n",
    "for n in n_list:  # Iterate over each matrix size in the list\n",
    "\tfor _ in range(m):  # Repeat the test m times for each size\n",
    "\t\t# Generate two random n x n matrices with integer values between -10 and 10\n",
    "\t\tA = np.array([[random.randint(-10, 10) for _ in range(n)] for _ in range(n)])\n",
    "\t\tB = np.array([[random.randint(-10, 10) for _ in range(n)] for _ in range(n)])\n",
    "\t\t# Initialize an n x n zero matrix for the result\n",
    "\t\tC = np.array([[0 for _ in range(n)] for _ in range(n)])\n",
    "\t\t# Compute the product using the custom recursive_matrix_product function\n",
    "\t\trecursive_matrix_product(A, B, C, n)\n",
    "\t\t# Compute the product using NumPy's built-in matmul for validation\n",
    "\t\tC2 = np.matmul(A, B)\n",
    "\t\t# Compare the results; if they differ, print a message and stop testing\n",
    "\t\tif not np.array_equal(C, C2):\n",
    "\t\t\tprint(f'recursive_matrix_product got a different result')\n",
    "\t\t\ttest = False\n",
    "\t\t\tbreak\n",
    "\n",
    "if test:\n",
    "\tprint('recursive_matrix_product works perfectly!!!')"
   ]
  },
  {
   "cell_type": "markdown",
   "id": "54296a87",
   "metadata": {},
   "source": [
    "### **1.3 Strassen's Method**\n",
    "Strassen's methodology for matrix multiplication is based on a divide-and-conquer approach that reduces the number of necessary multiplications. Instead of performing the standard eight multiplications required for two-by-two block matrices, Strassen's method cleverly computes seven specific products of matrix sub-blocks and combines them using addition and subtraction. This reduction in multiplications leads to a lower overall computational complexity compared to the conventional algorithm, making Strassen's approach more efficient for large matrices.\n",
    "#### **1.3.1 Algorithm Design**"
   ]
  },
  {
   "cell_type": "code",
   "execution_count": 1,
   "id": "55f46b71",
   "metadata": {},
   "outputs": [],
   "source": [
    "import numpy as np\n",
    "\n",
    "def strassen(A, B, C, n):\n",
    "\t# Base case: use standard multiplication for 1x1 matrices\n",
    "\tif n == 1:\n",
    "\t\tC[0, 0] = A[0, 0] * B[0, 0]\n",
    "\t\treturn\n",
    "\n",
    "\tmid = n // 2  # Find the midpoint to partition the matrices\n",
    "\n",
    "\t# Partition matrices A, B, and C into four quadrants each\n",
    "\tA11, A12 = A[:mid, :mid], A[:mid, mid:]\n",
    "\tA21, A22 = A[mid:, :mid], A[mid:, mid:]\n",
    "\tB11, B12 = B[:mid, :mid], B[:mid, mid:]\n",
    "\tB21, B22 = B[mid:, :mid], B[mid:, mid:]\n",
    "\tC11, C12 = C[:mid, :mid], C[:mid, mid:]\n",
    "\tC21, C22 = C[mid:, :mid], C[mid:, mid:]\n",
    "\n",
    "\t# Allocate temporary matrices for Strassen's 7 products\n",
    "\tM1 = np.zeros((mid, mid), dtype=A.dtype)\n",
    "\tM2 = np.zeros((mid, mid), dtype=A.dtype)\n",
    "\tM3 = np.zeros((mid, mid), dtype=A.dtype)\n",
    "\tM4 = np.zeros((mid, mid), dtype=A.dtype)\n",
    "\tM5 = np.zeros((mid, mid), dtype=A.dtype)\n",
    "\tM6 = np.zeros((mid, mid), dtype=A.dtype)\n",
    "\tM7 = np.zeros((mid, mid), dtype=A.dtype)\n",
    "\n",
    "\t# Compute the 7 products using Strassen's formulas\n",
    "\tstrassen(A11 + A22, B11 + B22, M1, mid)      # M1 = (A11 + A22) * (B11 + B22)\n",
    "\tstrassen(A21 + A22, B11, M2, mid)            # M2 = (A21 + A22) * B11\n",
    "\tstrassen(A11, B12 - B22, M3, mid)            # M3 = A11 * (B12 - B22)\n",
    "\tstrassen(A22, B21 - B11, M4, mid)            # M4 = A22 * (B21 - B11)\n",
    "\tstrassen(A11 + A12, B22, M5, mid)            # M5 = (A11 + A12) * B22\n",
    "\tstrassen(A21 - A11, B11 + B12, M6, mid)      # M6 = (A21 - A11) * (B11 + B12)\n",
    "\tstrassen(A12 - A22, B21 + B22, M7, mid)      # M7 = (A12 - A22) * (B21 + B22)\n",
    "\n",
    "\t# Combine the results into C using Strassen's recombination formulas\n",
    "\tC11[:, :] = M1 + M4 - M5 + M7   # C11 = M1 + M4 - M5 + M7\n",
    "\tC12[:, :] = M3 + M5             # C12 = M3 + M5\n",
    "\tC21[:, :] = M2 + M4             # C21 = M2 + M4\n",
    "\tC22[:, :] = M1 - M2 + M3 + M6   # C22 = M1 - M2 + M3 + M6"
   ]
  },
  {
   "cell_type": "markdown",
   "id": "8ab9b643",
   "metadata": {},
   "source": [
    "#### **1.3.2 Functionality Demonstration with Random Matrices**\n",
    "We will demonstrate the functionality of the `strassen` algorithm by applying it to randomly generated matrices. The matrices `A` and `B` are displayed before multiplication, and the resulting matrix `C` is shown afterward."
   ]
  },
  {
   "cell_type": "code",
   "execution_count": 40,
   "id": "4fe00d0a",
   "metadata": {},
   "outputs": [
    {
     "name": "stdout",
     "output_type": "stream",
     "text": [
      "Matrix A:\n",
      "[[  6   9 -10   1]\n",
      " [  3  -9   2   8]\n",
      " [ -1   2  -6   1]\n",
      " [  7   1  -2   3]]\n",
      "\n",
      "Matrix B:\n",
      "[[ -2  -2  -6   8]\n",
      " [ -7   7  -6  -1]\n",
      " [ -9   3   2  -4]\n",
      " [-10   6  -4  -6]]\n",
      "\n",
      "AxB:\n",
      "[[   5   27 -114   73]\n",
      " [ -41  -15    8  -23]\n",
      " [  32    4  -22    8]\n",
      " [ -33    5  -64   45]]\n",
      "\n"
     ]
    }
   ],
   "source": [
    "import random\n",
    "\n",
    "n = 4\n",
    "\n",
    "A = np.array([[random.randint(-10, 10) for _ in range(n)] for _ in range(n)])\n",
    "B = np.array([[random.randint(-10, 10) for _ in range(n)] for _ in range(n)])\n",
    "C = np.array([[0 for _ in range(n)] for _ in range(n)])\n",
    "strassen(A, B, C, n)\n",
    "print(f'Matrix A:\\n{A}\\n')\n",
    "print(f'Matrix B:\\n{B}\\n')\n",
    "print(f'AxB:\\n{C}\\n')"
   ]
  },
  {
   "cell_type": "markdown",
   "id": "0706cb31",
   "metadata": {},
   "source": [
    "#### **1.3.3 Validation of Correctness**\n",
    "We will validate the correctness of `strassen` by comparing its results with the `np.matmul` function, which is a well-established matrix multiplication implementation in `NumPy`."
   ]
  },
  {
   "cell_type": "code",
   "execution_count": 41,
   "id": "8bf28203",
   "metadata": {},
   "outputs": [
    {
     "name": "stdout",
     "output_type": "stream",
     "text": [
      "strassen works perfectly!!!\n"
     ]
    }
   ],
   "source": [
    "import random\n",
    "\n",
    "n_list = [1, 2, 4, 8, 16, 32, 64]  # List of matrix sizes to test (powers of 2)\n",
    "m = 10  # Number of tests to run for each matrix size\n",
    "test = True  # Flag to track if all tests pass\n",
    "\n",
    "for n in n_list:  # Iterate over each matrix size in the list\n",
    "\tfor _ in range(m):  # Repeat the test m times for each size\n",
    "\t\t# Generate two random n x n matrices with integer values between -10 and 10\n",
    "\t\tA = np.array([[random.randint(-10, 10) for _ in range(n)] for _ in range(n)])\n",
    "\t\tB = np.array([[random.randint(-10, 10) for _ in range(n)] for _ in range(n)])\n",
    "\t\t# Initialize an n x n zero matrix for the result\n",
    "\t\tC = np.array([[0 for _ in range(n)] for _ in range(n)])\n",
    "\t\t# Compute the product using the custom strassen function\n",
    "\t\tstrassen(A, B, C, n)\n",
    "\t\t# Compute the product using NumPy's built-in matmul for validation\n",
    "\t\tC2 = np.matmul(A, B)\n",
    "\t\t# Compare the results; if they differ, print a message and stop testing\n",
    "\t\tif not np.array_equal(C, C2):\n",
    "\t\t\tprint(f'strassen got a different result')\n",
    "\t\t\ttest = False\n",
    "\t\t\tbreak\n",
    "\n",
    "if test:\n",
    "\tprint('strassen works perfectly!!!')"
   ]
  },
  {
   "cell_type": "markdown",
   "id": "42f70e16",
   "metadata": {},
   "source": [
    "## **2. Experiment Block: Performance Comparison**\n",
    "### **2.1 Importing Libraries and Setting Up Paths**"
   ]
  },
  {
   "cell_type": "code",
   "execution_count": 42,
   "id": "a5298f91",
   "metadata": {},
   "outputs": [],
   "source": [
    "import random\n",
    "import time\n",
    "import matplotlib.pyplot as plt\n",
    "import os\n",
    "import sys\n",
    "\n",
    "sys.path.append(os.path.abspath(\"../img\"))"
   ]
  },
  {
   "cell_type": "markdown",
   "id": "22b62139",
   "metadata": {},
   "source": [
    "### **2.2 Utility Functions for Performance Measurement and Visualization**"
   ]
  },
  {
   "cell_type": "code",
   "execution_count": 43,
   "id": "cfda29a1",
   "metadata": {},
   "outputs": [],
   "source": [
    "# Function that computes the execution time\n",
    "def execution_time(fun, *args):\n",
    "\t# Record the start time before the function call\n",
    "\tstart = time.time()\n",
    "\t\n",
    "\t# Call the function with the provided arguments\n",
    "\tfun(*args)\n",
    "\t\n",
    "\t# Record the end time after the function call\n",
    "\tend = time.time()\n",
    "\t\n",
    "\t# Return the difference between end and start times (execution duration)\n",
    "\treturn end - start\n",
    "\n",
    "\n",
    "# Function that compares execution time\n",
    "def comparison_machine(sizes, reps, algorithm):\n",
    "\ttotal_time = [[] for _ in algorithm]  # Initialize a list to store times for each algorithm\n",
    "\n",
    "\tfor n in sizes:  # Iterate over each matrix size\n",
    "\t\tcumulative_time = [0 for _ in algorithm]  # Track cumulative time for each algorithm\n",
    "\n",
    "\t\tfor _ in range(reps):  # Repeat the test 'reps' times for averaging\n",
    "\t\t\t# Generate two random n x n matrices with integer values between -10 and 10\n",
    "\t\t\tA = np.array([[random.randint(-10, 10) for _ in range(n)] for _ in range(n)])\n",
    "\t\t\tB = np.array([[random.randint(-10, 10) for _ in range(n)] for _ in range(n)])\n",
    "\n",
    "\t\t\tfor i, algo in enumerate(algorithm):  # Test each algorithm\n",
    "\t\t\t\tC = np.array([[0 for _ in range(n)] for _ in range(n)])  # Initialize result matrix\n",
    "\t\t\t\t# Measure and accumulate execution time for the algorithm\n",
    "\t\t\t\tcumulative_time[i] += execution_time(algo, A, B, C, n)\n",
    "\n",
    "\t\t# Compute and store the average execution time for each algorithm at this size\n",
    "\t\tfor i, t in enumerate(cumulative_time):\n",
    "\t\t\ttotal_time[i].append(t / reps)\n",
    "\n",
    "\treturn total_time  # Return the list of average times for each algorithm\n",
    "\n",
    "\n",
    "# Function that plots the results\n",
    "def comparison_graph(sizes, t, algorithm):\n",
    "\t# Create the plot\n",
    "\tfor i, algo in enumerate(algorithm):\n",
    "\t\t# Plot the execution times for each algorithm\n",
    "\t\tplt.plot(sizes, t[i], label=algo.__name__)\n",
    "\t\n",
    "\t# Plot features\n",
    "\tplt.title(f'Comparison plot') # Title\n",
    "\tplt.xlabel(\"Matrix size (n x n)\") # x-axis label\n",
    "\tplt.ylabel(\"Average time (s)\") # y-axis label\n",
    "\tplt.legend(loc='upper left') # show legend\n",
    "\n",
    "\t# Relative path to the 'img' folder from the notebook location\n",
    "\timg_path = os.path.join(\"..\", \"img\")\n",
    "\t\n",
    "\t# Ensure the 'img' folder exists; create it if it doesn't\n",
    "\tos.makedirs(img_path, exist_ok=True)\n",
    "\n",
    "\t# Save the graph to the 'img' folder with a filename based on the scenario name\n",
    "\tfilename = os.path.join(img_path, \"comparison.png\")\n",
    "\tplt.savefig(filename, bbox_inches=\"tight\")  # Save the plot with tight bounding box\n",
    "\tprint(f\"Graph saved to: {filename}\")  # Print the location of the saved graph\n",
    "\t\n",
    "\t# Display the plot\n",
    "\tplt.show()\n",
    "\n",
    "\n",
    "# Function that calls all the machinery\n",
    "def machine_call(sizes, reps, algorithm):\n",
    "\t# Call the comparison_machine function to compute execution times\n",
    "\tt = comparison_machine(sizes, reps, algorithm)\n",
    "\t\n",
    "\t# Call the comparison_graph function to plot the results\n",
    "\tcomparison_graph(sizes, t, algorithm)"
   ]
  },
  {
   "cell_type": "markdown",
   "id": "619c77df",
   "metadata": {},
   "source": [
    "### **2.3 Performance Comparison of Matrix Multiplication Algorithms**\n",
    "This subsection sets up and runs a performance comparison of three different matrix multiplication algorithms: the standard iterative method (`matrix_product`), the recursive method (`recursive_matrix_product`), and Strassen's algorithm (`strassen`). It measures the average execution time of each algorithm for square matrices of increasing sizes (from 1x1 up to 128x128), repeating each test multiple times for accuracy. The results are then visualized in a plot, allowing for a clear comparison of the computational efficiency of each algorithm as matrix size increases."
   ]
  },
  {
   "cell_type": "code",
   "execution_count": 45,
   "id": "79c8d879",
   "metadata": {},
   "outputs": [
    {
     "name": "stdout",
     "output_type": "stream",
     "text": [
      "Graph saved to: ..\\img\\comparison.png\n"
     ]
    },
    {
     "data": {
      "image/png": "[encoded data removed]",
      "text/plain": [
       "<Figure size 640x480 with 1 Axes>"
      ]
     },
     "metadata": {},
     "output_type": "display_data"
    }
   ],
   "source": [
    "samples = 8  # Number of different matrix sizes to test (from 2^0 to 2^7)\n",
    "sizes = [2 ** i for i in range(samples)]  # List of matrix sizes: [1, 2, 4, 8, 16, 32, 64, 128]\n",
    "reps = 10  # Number of repetitions for each matrix size to average the timing\n",
    "algorithm = [matrix_product, recursive_matrix_product, strassen]  # List of algorithms to compare\n",
    "machine_call(sizes, reps, algorithm)  # Run the performance comparison and plot the results"
   ]
  },
  {
   "cell_type": "markdown",
   "id": "ecb5fcc2",
   "metadata": {},
   "source": [
    "The plot shows that matrix_product is the fastest algorithm for the tested matrix sizes. Contrary to theoretical expectations, the advantages of Strassen's method are not evident at these scales. Significantly larger matrices are needed to observe the potential efficiency gains of Strassen's algorithm."
   ]
  },
  {
   "cell_type": "markdown",
   "id": "d0b3b844",
   "metadata": {},
   "source": [
    "# **Conclusion**\n",
    "\n",
    "In this notebook, we explored and implemented three matrix multiplication algorithms: the standard iterative method, the recursive approach, and Strassen's algorithm. Through both correctness validation and experimental performance analysis, we observed that all three methods produce accurate results for square matrices of various sizes.\n",
    "\n",
    "The performance comparison revealed that the standard iterative method (`matrix_product`) consistently outperforms the recursive and Strassen's algorithms for the tested matrix sizes (up to 128×128). Although Strassen's algorithm is theoretically more efficient for very large matrices, its practical advantages are not apparent at these scales due to overhead from recursion and additional matrix operations. To observe the theoretical benefits of Strassen's method, experiments with significantly larger matrices would be required.\n",
    "\n",
    "Overall, for small to moderately sized matrices, the standard iterative approach remains the most practical and efficient choice. Strassen's algorithm may become advantageous only for much larger matrices, where its reduced asymptotic complexity can outweigh its overhead."
   ]
  }
 ],
 "metadata": {
  "kernelspec": {
   "display_name": "Python 3",
   "language": "python",
   "name": "python3"
  },
  "language_info": {
   "codemirror_mode": {
    "name": "ipython",
    "version": 3
   },
   "file_extension": ".py",
   "mimetype": "text/x-python",
   "name": "python",
   "nbconvert_exporter": "python",
   "pygments_lexer": "ipython3",
   "version": "3.8.10"
  }
 },
 "nbformat": 4,
 "nbformat_minor": 5
}
